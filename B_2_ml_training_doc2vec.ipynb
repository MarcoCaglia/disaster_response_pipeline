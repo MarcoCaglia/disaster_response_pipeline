{
 "cells": [
  {
   "cell_type": "markdown",
   "metadata": {},
   "source": [
    "### Load Data"
   ]
  },
  {
   "cell_type": "code",
   "execution_count": 1,
   "metadata": {},
   "outputs": [
    {
     "name": "stderr",
     "output_type": "stream",
     "text": [
      "C:\\Users\\cagli\\Anaconda3\\envs\\disaster_pipeline\\lib\\site-packages\\tqdm\\std.py:648: FutureWarning: The Panel class is removed from pandas. Accessing it from the top-level namespace will also be removed in the next version\n",
      "  from pandas import Panel\n",
      "Using TensorFlow backend.\n"
     ]
    }
   ],
   "source": [
    "import pandas as pd\n",
    "import numpy as np\n",
    "import sqlite3\n",
    "import re\n",
    "from sklearn.feature_extraction.text import TfidfTransformer\n",
    "from sklearn.model_selection import train_test_split, GridSearchCV\n",
    "from sklearn.multioutput import MultiOutputClassifier\n",
    "from sklearn.linear_model import LogisticRegression\n",
    "from sklearn.svm import SVC\n",
    "from sklearn.ensemble import AdaBoostClassifier, GradientBoostingClassifier\n",
    "from sklearn.metrics import classification_report, f1_score\n",
    "\n",
    "from tqdm import tqdm\n",
    "tqdm.pandas(desc='progress-bar')\n",
    "from sklearn import utils\n",
    "from gensim.models import Doc2Vec as d2v\n",
    "import gensim\n",
    "from gensim.models.doc2vec import TaggedDocument\n",
    "import pprint\n",
    "from imblearn.over_sampling import SMOTE\n",
    "\n",
    "import pickle\n",
    "from pathlib import Path"
   ]
  },
  {
   "cell_type": "code",
   "execution_count": 2,
   "metadata": {},
   "outputs": [],
   "source": [
    "connection = sqlite3.connect('messages_info.db')\n",
    "query = 'SELECT * FROM data'\n",
    "\n",
    "data = pd.read_sql(query, connection)"
   ]
  },
  {
   "cell_type": "markdown",
   "metadata": {},
   "source": [
    "### Preprocessing"
   ]
  },
  {
   "cell_type": "code",
   "execution_count": 3,
   "metadata": {},
   "outputs": [],
   "source": [
    "def clean_string(string):\n",
    "    delete_punctuation = re.compile('[^a-zA-Z0-9]')\n",
    "    clean_string = re.sub(delete_punctuation, ' ', string)\n",
    "    return clean_string"
   ]
  },
  {
   "cell_type": "code",
   "execution_count": 4,
   "metadata": {},
   "outputs": [],
   "source": [
    "def label_messages(column, label_type):\n",
    "    labeled = []\n",
    "    for i, cell in enumerate(column):\n",
    "        label = label_type + '_' + str(i)\n",
    "        labeled.append(TaggedDocument(cell.split(), [label]))\n",
    "    return labeled"
   ]
  },
  {
   "cell_type": "code",
   "execution_count": 5,
   "metadata": {},
   "outputs": [],
   "source": [
    "data.message = data.message.map(clean_string)\n",
    "\n",
    "X_train, X_test, y_train, y_test = train_test_split(data.message, data.loc[:, 'related':], train_size=0.75,\n",
    "                                                    random_state=42)\n",
    "\n",
    "X_train = label_messages(X_train, 'train')\n",
    "X_test = label_messages(X_test, 'test')"
   ]
  },
  {
   "cell_type": "code",
   "execution_count": 6,
   "metadata": {},
   "outputs": [],
   "source": [
    "drop_list = []\n",
    "\n",
    "for col in y_train.columns:\n",
    "    y_train[col] = pd.to_numeric(y_train[col], errors='raise')\n",
    "    if y_train[col].sum() == 0:\n",
    "        drop_list.append(col)\n",
    "\n",
    "for col in y_test.columns:\n",
    "    y_test[col] = pd.to_numeric(y_test[col], errors='raise')\n",
    "\n",
    "y_test.drop(drop_list, inplace=True, axis=1)\n",
    "y_train.drop(drop_list, inplace=True, axis=1)"
   ]
  },
  {
   "cell_type": "code",
   "execution_count": 7,
   "metadata": {
    "scrolled": true
   },
   "outputs": [
    {
     "name": "stderr",
     "output_type": "stream",
     "text": [
      "100%|████████████████████████████████████████████████████████████████████████████████████████████████████████████████████| 26216/26216 [00:00<00:00, 3286739.61it/s]\n",
      "100%|████████████████████████████████████████████████████████████████████████████████████████████████████████████████████| 26216/26216 [00:00<00:00, 3735870.41it/s]\n",
      "100%|████████████████████████████████████████████████████████████████████████████████████████████████████████████████████| 26216/26216 [00:00<00:00, 4382013.86it/s]\n",
      "100%|████████████████████████████████████████████████████████████████████████████████████████████████████████████████████| 26216/26216 [00:00<00:00, 4357873.88it/s]\n",
      "100%|████████████████████████████████████████████████████████████████████████████████████████████████████████████████████| 26216/26216 [00:00<00:00, 4356837.85it/s]\n",
      "100%|████████████████████████████████████████████████████████████████████████████████████████████████████████████████████| 26216/26216 [00:00<00:00, 4381140.87it/s]\n",
      "100%|████████████████████████████████████████████████████████████████████████████████████████████████████████████████████| 26216/26216 [00:00<00:00, 4380791.78it/s]\n",
      "100%|████████████████████████████████████████████████████████████████████████████████████████████████████████████████████| 26216/26216 [00:00<00:00, 4382537.81it/s]\n",
      "100%|████████████████████████████████████████████████████████████████████████████████████████████████████████████████████| 26216/26216 [00:00<00:00, 4345989.24it/s]\n",
      "100%|████████████████████████████████████████████████████████████████████████████████████████████████████████████████████| 26216/26216 [00:00<00:00, 4358219.33it/s]\n",
      "100%|████████████████████████████████████████████████████████████████████████████████████████████████████████████████████| 26216/26216 [00:00<00:00, 4381490.02it/s]\n",
      "100%|████████████████████████████████████████████████████████████████████████████████████████████████████████████████████| 26216/26216 [00:00<00:00, 4403775.63it/s]\n",
      "100%|████████████████████████████████████████████████████████████████████████████████████████████████████████████████████| 26216/26216 [00:00<00:00, 4381140.87it/s]\n",
      "100%|████████████████████████████████████████████████████████████████████████████████████████████████████████████████████| 26216/26216 [00:00<00:00, 4415446.88it/s]\n",
      "100%|████████████████████████████████████████████████████████████████████████████████████████████████████████████████████| 26216/26216 [00:00<00:00, 3755135.36it/s]\n",
      "100%|████████████████████████████████████████████████████████████████████████████████████████████████████████████████████| 26216/26216 [00:00<00:00, 4401484.02it/s]\n",
      "100%|████████████████████████████████████████████████████████████████████████████████████████████████████████████████████| 26216/26216 [00:00<00:00, 4381315.44it/s]\n",
      "100%|████████████████████████████████████████████████████████████████████████████████████████████████████████████████████| 26216/26216 [00:00<00:00, 4389886.36it/s]\n",
      "100%|████████████████████████████████████████████████████████████████████████████████████████████████████████████████████| 26216/26216 [00:00<00:00, 3758601.05it/s]\n",
      "100%|████████████████████████████████████████████████████████████████████████████████████████████████████████████████████| 26216/26216 [00:00<00:00, 4381315.44it/s]\n",
      "100%|████████████████████████████████████████████████████████████████████████████████████████████████████████████████████| 26216/26216 [00:00<00:00, 4381490.02it/s]\n",
      "100%|████████████████████████████████████████████████████████████████████████████████████████████████████████████████████| 26216/26216 [00:00<00:00, 4347879.54it/s]\n",
      "100%|████████████████████████████████████████████████████████████████████████████████████████████████████████████████████| 26216/26216 [00:00<00:00, 3732066.44it/s]\n",
      "100%|████████████████████████████████████████████████████████████████████████████████████████████████████████████████████| 26216/26216 [00:00<00:00, 4380617.25it/s]\n",
      "100%|████████████████████████████████████████████████████████████████████████████████████████████████████████████████████| 26216/26216 [00:00<00:00, 4380268.24it/s]\n",
      "100%|████████████████████████████████████████████████████████████████████████████████████████████████████████████████████| 26216/26216 [00:00<00:00, 4379221.54it/s]\n",
      "100%|████████████████████████████████████████████████████████████████████████████████████████████████████████████████████| 26216/26216 [00:00<00:00, 3738410.69it/s]\n",
      "100%|████████████████████████████████████████████████████████████████████████████████████████████████████████████████████| 26216/26216 [00:00<00:00, 4408896.30it/s]\n",
      "100%|████████████████████████████████████████████████████████████████████████████████████████████████████████████████████| 26216/26216 [00:00<00:00, 4349083.32it/s]\n",
      "100%|████████████████████████████████████████████████████████████████████████████████████████████████████████████████████| 26216/26216 [00:00<00:00, 4358910.40it/s]\n",
      "100%|████████████████████████████████████████████████████████████████████████████████████████████████████████████████████| 26216/26216 [00:00<00:00, 4357528.48it/s]\n"
     ]
    }
   ],
   "source": [
    "# Parameters for Doc2Vec\n",
    "dm=0\n",
    "vector_size = 300\n",
    "negative=5\n",
    "min_count=1\n",
    "alpha=0.065\n",
    "epochs = 30\n",
    "\n",
    "model_dbow = d2v(dm=dm, vector_size=vector_size, negative=negative, min_count=min_count, alpha=alpha, min_alpha=alpha)\n",
    "model_dbow.build_vocab([x for x in tqdm (X_train + X_test)])\n",
    "\n",
    "for epoch in range(epochs):\n",
    "    model_dbow.train(utils.shuffle([x for x in tqdm(X_train + X_test)]), total_examples=len(X_train + X_test), epochs=1)\n",
    "    model_dbow.alpha = 0.002\n",
    "    model_dbow.min_alpha = model_dbow.alpha"
   ]
  },
  {
   "cell_type": "code",
   "execution_count": 8,
   "metadata": {},
   "outputs": [],
   "source": [
    "def get_vectors(model, corpus_size, vectors_size, vectors_type):\n",
    "    vectors = np.zeros((corpus_size, vectors_size))\n",
    "    for i in range(corpus_size):\n",
    "        prefix = vectors_type + '_' + str(i)\n",
    "        vectors[i] = model.docvecs[prefix]\n",
    "    return vectors"
   ]
  },
  {
   "cell_type": "code",
   "execution_count": 9,
   "metadata": {},
   "outputs": [],
   "source": [
    "train_vectors = get_vectors(model_dbow, len(X_train), 300, 'train')\n",
    "test_vectors = get_vectors(model_dbow, len(X_test), 300, 'test')"
   ]
  },
  {
   "cell_type": "code",
   "execution_count": 10,
   "metadata": {},
   "outputs": [],
   "source": [
    "train_dict = dict([(col, (train_vectors, y_train[col].values)) for col in y_train.columns])\n",
    "test_dict = dict([(col, (test_vectors, y_test[col].values)) for col in y_test.columns])\n",
    "\n",
    "train_dict_oversampled = dict(\n",
    "    [\n",
    "        (col,\n",
    "         SMOTE(sampling_strategy='not majority').fit_resample\n",
    "         (train_vectors, y_train[col].values)\n",
    "        ) for col in y_train.columns\n",
    "    ]\n",
    ")"
   ]
  },
  {
   "cell_type": "markdown",
   "metadata": {},
   "source": [
    "### Machine Learning"
   ]
  },
  {
   "cell_type": "code",
   "execution_count": 11,
   "metadata": {},
   "outputs": [],
   "source": [
    "# Initialize Models\n",
    "logreg = LogisticRegression(solver='lbfgs', multi_class='auto', n_jobs=10)\n",
    "svc = SVC(gamma='auto')\n",
    "ada_boost = AdaBoostClassifier()\n",
    "grad_boost = GradientBoostingClassifier()\n",
    "\n",
    "models = {\n",
    "    'Logistic Regression':logreg,\n",
    "    'SVC':svc,\n",
    "    'Adaptive Boosting':ada_boost,\n",
    "    'Gradient Boosting':grad_boost\n",
    "}"
   ]
  },
  {
   "cell_type": "code",
   "execution_count": 12,
   "metadata": {},
   "outputs": [
    {
     "name": "stdout",
     "output_type": "stream",
     "text": [
      "Fit category related for Logistic Regression\r"
     ]
    },
    {
     "ename": "ValueError",
     "evalue": "Classification metrics can't handle a mix of continuous-multioutput and binary targets",
     "output_type": "error",
     "traceback": [
      "\u001b[1;31m---------------------------------------------------------------------------\u001b[0m",
      "\u001b[1;31mValueError\u001b[0m                                Traceback (most recent call last)",
      "\u001b[1;32m<ipython-input-12-c90184470f67>\u001b[0m in \u001b[0;36m<module>\u001b[1;34m\u001b[0m\n\u001b[0;32m     17\u001b[0m             \u001b[0mcurrent_model\u001b[0m\u001b[1;33m.\u001b[0m\u001b[0mfit\u001b[0m\u001b[1;33m(\u001b[0m\u001b[0mtrain_dict_oversampled\u001b[0m\u001b[1;33m[\u001b[0m\u001b[0mcategory\u001b[0m\u001b[1;33m]\u001b[0m\u001b[1;33m[\u001b[0m\u001b[1;36m0\u001b[0m\u001b[1;33m]\u001b[0m\u001b[1;33m,\u001b[0m \u001b[0mtrain_dict_oversampled\u001b[0m\u001b[1;33m[\u001b[0m\u001b[0mcategory\u001b[0m\u001b[1;33m]\u001b[0m\u001b[1;33m[\u001b[0m\u001b[1;36m1\u001b[0m\u001b[1;33m]\u001b[0m\u001b[1;33m)\u001b[0m\u001b[1;33m\u001b[0m\u001b[1;33m\u001b[0m\u001b[0m\n\u001b[0;32m     18\u001b[0m             \u001b[0my_hat\u001b[0m \u001b[1;33m=\u001b[0m \u001b[0mcurrent_model\u001b[0m\u001b[1;33m.\u001b[0m\u001b[0mpredict\u001b[0m\u001b[1;33m(\u001b[0m\u001b[0mtest_dict\u001b[0m\u001b[1;33m[\u001b[0m\u001b[0mcategory\u001b[0m\u001b[1;33m]\u001b[0m\u001b[1;33m[\u001b[0m\u001b[1;36m0\u001b[0m\u001b[1;33m]\u001b[0m\u001b[1;33m)\u001b[0m\u001b[1;33m\u001b[0m\u001b[1;33m\u001b[0m\u001b[0m\n\u001b[1;32m---> 19\u001b[1;33m             \u001b[0mf1_weighted\u001b[0m\u001b[1;33m.\u001b[0m\u001b[0mappend\u001b[0m\u001b[1;33m(\u001b[0m\u001b[0mf1_score\u001b[0m\u001b[1;33m(\u001b[0m\u001b[0mtest_dict\u001b[0m\u001b[1;33m[\u001b[0m\u001b[0mcategory\u001b[0m\u001b[1;33m]\u001b[0m\u001b[1;33m[\u001b[0m\u001b[1;36m0\u001b[0m\u001b[1;33m]\u001b[0m\u001b[1;33m,\u001b[0m \u001b[0my_hat\u001b[0m\u001b[1;33m,\u001b[0m \u001b[0maverage\u001b[0m\u001b[1;33m=\u001b[0m\u001b[1;34m'weighted'\u001b[0m\u001b[1;33m)\u001b[0m\u001b[1;33m)\u001b[0m\u001b[1;33m\u001b[0m\u001b[1;33m\u001b[0m\u001b[0m\n\u001b[0m\u001b[0;32m     20\u001b[0m             \u001b[0mf1_macro\u001b[0m\u001b[1;33m.\u001b[0m\u001b[0mappend\u001b[0m\u001b[1;33m(\u001b[0m\u001b[0mf1_score\u001b[0m\u001b[1;33m(\u001b[0m\u001b[0mtest_dict\u001b[0m\u001b[1;33m[\u001b[0m\u001b[0mcategory\u001b[0m\u001b[1;33m]\u001b[0m\u001b[1;33m[\u001b[0m\u001b[1;36m0\u001b[0m\u001b[1;33m]\u001b[0m\u001b[1;33m,\u001b[0m \u001b[0my_hat\u001b[0m\u001b[1;33m,\u001b[0m \u001b[0maverage\u001b[0m\u001b[1;33m=\u001b[0m\u001b[1;34m'macro'\u001b[0m\u001b[1;33m)\u001b[0m\u001b[1;33m)\u001b[0m\u001b[1;33m\u001b[0m\u001b[1;33m\u001b[0m\u001b[0m\n\u001b[0;32m     21\u001b[0m             \u001b[1;32mwith\u001b[0m \u001b[0mopen\u001b[0m\u001b[1;33m(\u001b[0m\u001b[0mpath\u001b[0m\u001b[1;33m+\u001b[0m\u001b[0mmodel\u001b[0m\u001b[1;33m+\u001b[0m\u001b[1;34m'_'\u001b[0m\u001b[1;33m+\u001b[0m\u001b[0mcategory\u001b[0m\u001b[1;33m,\u001b[0m \u001b[1;34m'wb'\u001b[0m\u001b[1;33m)\u001b[0m \u001b[1;32mas\u001b[0m \u001b[0mf\u001b[0m\u001b[1;33m:\u001b[0m\u001b[1;33m\u001b[0m\u001b[1;33m\u001b[0m\u001b[0m\n",
      "\u001b[1;32m~\\Anaconda3\\envs\\disaster_pipeline\\lib\\site-packages\\sklearn\\metrics\\classification.py\u001b[0m in \u001b[0;36mf1_score\u001b[1;34m(y_true, y_pred, labels, pos_label, average, sample_weight)\u001b[0m\n\u001b[0;32m   1057\u001b[0m     return fbeta_score(y_true, y_pred, 1, labels=labels,\n\u001b[0;32m   1058\u001b[0m                        \u001b[0mpos_label\u001b[0m\u001b[1;33m=\u001b[0m\u001b[0mpos_label\u001b[0m\u001b[1;33m,\u001b[0m \u001b[0maverage\u001b[0m\u001b[1;33m=\u001b[0m\u001b[0maverage\u001b[0m\u001b[1;33m,\u001b[0m\u001b[1;33m\u001b[0m\u001b[1;33m\u001b[0m\u001b[0m\n\u001b[1;32m-> 1059\u001b[1;33m                        sample_weight=sample_weight)\n\u001b[0m\u001b[0;32m   1060\u001b[0m \u001b[1;33m\u001b[0m\u001b[0m\n\u001b[0;32m   1061\u001b[0m \u001b[1;33m\u001b[0m\u001b[0m\n",
      "\u001b[1;32m~\\Anaconda3\\envs\\disaster_pipeline\\lib\\site-packages\\sklearn\\metrics\\classification.py\u001b[0m in \u001b[0;36mfbeta_score\u001b[1;34m(y_true, y_pred, beta, labels, pos_label, average, sample_weight)\u001b[0m\n\u001b[0;32m   1180\u001b[0m                                                  \u001b[0maverage\u001b[0m\u001b[1;33m=\u001b[0m\u001b[0maverage\u001b[0m\u001b[1;33m,\u001b[0m\u001b[1;33m\u001b[0m\u001b[1;33m\u001b[0m\u001b[0m\n\u001b[0;32m   1181\u001b[0m                                                  \u001b[0mwarn_for\u001b[0m\u001b[1;33m=\u001b[0m\u001b[1;33m(\u001b[0m\u001b[1;34m'f-score'\u001b[0m\u001b[1;33m,\u001b[0m\u001b[1;33m)\u001b[0m\u001b[1;33m,\u001b[0m\u001b[1;33m\u001b[0m\u001b[1;33m\u001b[0m\u001b[0m\n\u001b[1;32m-> 1182\u001b[1;33m                                                  sample_weight=sample_weight)\n\u001b[0m\u001b[0;32m   1183\u001b[0m     \u001b[1;32mreturn\u001b[0m \u001b[0mf\u001b[0m\u001b[1;33m\u001b[0m\u001b[1;33m\u001b[0m\u001b[0m\n\u001b[0;32m   1184\u001b[0m \u001b[1;33m\u001b[0m\u001b[0m\n",
      "\u001b[1;32m~\\Anaconda3\\envs\\disaster_pipeline\\lib\\site-packages\\sklearn\\metrics\\classification.py\u001b[0m in \u001b[0;36mprecision_recall_fscore_support\u001b[1;34m(y_true, y_pred, beta, labels, pos_label, average, warn_for, sample_weight)\u001b[0m\n\u001b[0;32m   1413\u001b[0m         \u001b[1;32mraise\u001b[0m \u001b[0mValueError\u001b[0m\u001b[1;33m(\u001b[0m\u001b[1;34m\"beta should be >0 in the F-beta score\"\u001b[0m\u001b[1;33m)\u001b[0m\u001b[1;33m\u001b[0m\u001b[1;33m\u001b[0m\u001b[0m\n\u001b[0;32m   1414\u001b[0m     labels = _check_set_wise_labels(y_true, y_pred, average, labels,\n\u001b[1;32m-> 1415\u001b[1;33m                                     pos_label)\n\u001b[0m\u001b[0;32m   1416\u001b[0m \u001b[1;33m\u001b[0m\u001b[0m\n\u001b[0;32m   1417\u001b[0m     \u001b[1;31m# Calculate tp_sum, pred_sum, true_sum ###\u001b[0m\u001b[1;33m\u001b[0m\u001b[1;33m\u001b[0m\u001b[1;33m\u001b[0m\u001b[0m\n",
      "\u001b[1;32m~\\Anaconda3\\envs\\disaster_pipeline\\lib\\site-packages\\sklearn\\metrics\\classification.py\u001b[0m in \u001b[0;36m_check_set_wise_labels\u001b[1;34m(y_true, y_pred, average, labels, pos_label)\u001b[0m\n\u001b[0;32m   1237\u001b[0m                          str(average_options))\n\u001b[0;32m   1238\u001b[0m \u001b[1;33m\u001b[0m\u001b[0m\n\u001b[1;32m-> 1239\u001b[1;33m     \u001b[0my_type\u001b[0m\u001b[1;33m,\u001b[0m \u001b[0my_true\u001b[0m\u001b[1;33m,\u001b[0m \u001b[0my_pred\u001b[0m \u001b[1;33m=\u001b[0m \u001b[0m_check_targets\u001b[0m\u001b[1;33m(\u001b[0m\u001b[0my_true\u001b[0m\u001b[1;33m,\u001b[0m \u001b[0my_pred\u001b[0m\u001b[1;33m)\u001b[0m\u001b[1;33m\u001b[0m\u001b[1;33m\u001b[0m\u001b[0m\n\u001b[0m\u001b[0;32m   1240\u001b[0m     \u001b[0mpresent_labels\u001b[0m \u001b[1;33m=\u001b[0m \u001b[0munique_labels\u001b[0m\u001b[1;33m(\u001b[0m\u001b[0my_true\u001b[0m\u001b[1;33m,\u001b[0m \u001b[0my_pred\u001b[0m\u001b[1;33m)\u001b[0m\u001b[1;33m\u001b[0m\u001b[1;33m\u001b[0m\u001b[0m\n\u001b[0;32m   1241\u001b[0m     \u001b[1;32mif\u001b[0m \u001b[0maverage\u001b[0m \u001b[1;33m==\u001b[0m \u001b[1;34m'binary'\u001b[0m\u001b[1;33m:\u001b[0m\u001b[1;33m\u001b[0m\u001b[1;33m\u001b[0m\u001b[0m\n",
      "\u001b[1;32m~\\Anaconda3\\envs\\disaster_pipeline\\lib\\site-packages\\sklearn\\metrics\\classification.py\u001b[0m in \u001b[0;36m_check_targets\u001b[1;34m(y_true, y_pred)\u001b[0m\n\u001b[0;32m     79\u001b[0m     \u001b[1;32mif\u001b[0m \u001b[0mlen\u001b[0m\u001b[1;33m(\u001b[0m\u001b[0my_type\u001b[0m\u001b[1;33m)\u001b[0m \u001b[1;33m>\u001b[0m \u001b[1;36m1\u001b[0m\u001b[1;33m:\u001b[0m\u001b[1;33m\u001b[0m\u001b[1;33m\u001b[0m\u001b[0m\n\u001b[0;32m     80\u001b[0m         raise ValueError(\"Classification metrics can't handle a mix of {0} \"\n\u001b[1;32m---> 81\u001b[1;33m                          \"and {1} targets\".format(type_true, type_pred))\n\u001b[0m\u001b[0;32m     82\u001b[0m \u001b[1;33m\u001b[0m\u001b[0m\n\u001b[0;32m     83\u001b[0m     \u001b[1;31m# We can't have more than one value on y_type => The set is no more needed\u001b[0m\u001b[1;33m\u001b[0m\u001b[1;33m\u001b[0m\u001b[1;33m\u001b[0m\u001b[0m\n",
      "\u001b[1;31mValueError\u001b[0m: Classification metrics can't handle a mix of continuous-multioutput and binary targets"
     ]
    }
   ],
   "source": [
    "path = './data/models/'\n",
    "results = {}\n",
    "\n",
    "for model in models:\n",
    "    f1_weighted = [] \n",
    "    f1_macro = []\n",
    "    for category in train_dict_oversampled:\n",
    "        if Path(path+model+'_'+category).is_file():\n",
    "            with open(path+model+'_'+category, 'rb'):\n",
    "                current_model = pickle.load(f)\n",
    "                y_hat = current_model.predict(test_dict[category][0])\n",
    "                f1_weighted.append(f1_score(test_dict[category][1], y_hat, average='weighted'))\n",
    "                f1_macro.append(f1_score(test_dict[category][1], y_hat, average='macro'))\n",
    "        else:        \n",
    "            print('Fit category {} for {}'.format(category, model), flush=True, end='\\r')\n",
    "            current_model = models[model]\n",
    "            current_model.fit(train_dict_oversampled[category][0], train_dict_oversampled[category][1])\n",
    "            y_hat = current_model.predict(test_dict[category][0])\n",
    "            f1_weighted.append(f1_score(test_dict[category][0], y_hat, average='weighted'))\n",
    "            f1_macro.append(f1_score(test_dict[category][0], y_hat, average='macro'))\n",
    "            with open(path+model+'_'+category, 'wb') as f:\n",
    "                pickle.dump(current_model, f)\n",
    "    results[model] = (np.mean(f1_weighted), np.mean(f1_macro))\n",
    "    \n",
    "result_df = pd.DataFrame.from_dict(results, orient='index', columns=['Weighted F1-Score', 'Macro F1-Score'])"
   ]
  }
 ],
 "metadata": {
  "kernelspec": {
   "display_name": "Python [conda env:disaster_pipeline]",
   "language": "python",
   "name": "conda-env-disaster_pipeline-py"
  },
  "language_info": {
   "codemirror_mode": {
    "name": "ipython",
    "version": 3
   },
   "file_extension": ".py",
   "mimetype": "text/x-python",
   "name": "python",
   "nbconvert_exporter": "python",
   "pygments_lexer": "ipython3",
   "version": "3.7.4"
  }
 },
 "nbformat": 4,
 "nbformat_minor": 2
}
