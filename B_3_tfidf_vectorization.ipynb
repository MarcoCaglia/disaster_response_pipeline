{
 "cells": [
  {
   "cell_type": "markdown",
   "metadata": {},
   "source": [
    "### Load Data"
   ]
  },
  {
   "cell_type": "code",
   "execution_count": 5,
   "metadata": {},
   "outputs": [],
   "source": [
    "import pandas as pd\n",
    "import sqlite3\n",
    "from sklearn.feature_extraction.text import TfidfVectorizer"
   ]
  },
  {
   "cell_type": "code",
   "execution_count": 8,
   "metadata": {},
   "outputs": [],
   "source": [
    "connection = sqlite3.connect('messages_info.db')\n",
    "query = 'SELECT * FROM data'\n",
    "data = pd.read_sql(query, connection).drop(['original', 'genre', 'index', 'id'], axis=1)"
   ]
  },
  {
   "cell_type": "code",
   "execution_count": 10,
   "metadata": {},
   "outputs": [
    {
     "name": "stdout",
     "output_type": "stream",
     "text": [
      "<class 'pandas.core.frame.DataFrame'>\n",
      "RangeIndex: 26216 entries, 0 to 26215\n",
      "Data columns (total 37 columns):\n",
      "message                   26216 non-null object\n",
      "related                   26216 non-null object\n",
      "request                   26216 non-null object\n",
      "offer                     26216 non-null object\n",
      "aid_related               26216 non-null object\n",
      "medical_help              26216 non-null object\n",
      "medical_products          26216 non-null object\n",
      "search_and_rescue         26216 non-null object\n",
      "security                  26216 non-null object\n",
      "military                  26216 non-null object\n",
      "child_alone               26216 non-null object\n",
      "water                     26216 non-null object\n",
      "food                      26216 non-null object\n",
      "shelter                   26216 non-null object\n",
      "clothing                  26216 non-null object\n",
      "money                     26216 non-null object\n",
      "missing_people            26216 non-null object\n",
      "refugees                  26216 non-null object\n",
      "death                     26216 non-null object\n",
      "other_aid                 26216 non-null object\n",
      "infrastructure_related    26216 non-null object\n",
      "transport                 26216 non-null object\n",
      "buildings                 26216 non-null object\n",
      "electricity               26216 non-null object\n",
      "tools                     26216 non-null object\n",
      "hospitals                 26216 non-null object\n",
      "shops                     26216 non-null object\n",
      "aid_centers               26216 non-null object\n",
      "other_infrastructure      26216 non-null object\n",
      "weather_related           26216 non-null object\n",
      "floods                    26216 non-null object\n",
      "storm                     26216 non-null object\n",
      "fire                      26216 non-null object\n",
      "earthquake                26216 non-null object\n",
      "cold                      26216 non-null object\n",
      "other_weather             26216 non-null object\n",
      "direct_report             26216 non-null object\n",
      "dtypes: object(37)\n",
      "memory usage: 7.4+ MB\n"
     ]
    }
   ],
   "source": [
    "data.info()"
   ]
  },
  {
   "cell_type": "code",
   "execution_count": null,
   "metadata": {},
   "outputs": [],
   "source": []
  }
 ],
 "metadata": {
  "kernelspec": {
   "display_name": "Python [conda env:disaster_pipeline] *",
   "language": "python",
   "name": "conda-env-disaster_pipeline-py"
  },
  "language_info": {
   "codemirror_mode": {
    "name": "ipython",
    "version": 3
   },
   "file_extension": ".py",
   "mimetype": "text/x-python",
   "name": "python",
   "nbconvert_exporter": "python",
   "pygments_lexer": "ipython3",
   "version": "3.7.5"
  }
 },
 "nbformat": 4,
 "nbformat_minor": 4
}
